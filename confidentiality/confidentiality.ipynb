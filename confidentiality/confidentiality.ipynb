{
 "cells": [
  {
   "cell_type": "markdown",
   "metadata": {},
   "source": [
    "# Confidentiality\n",
    "\n",
    " In this lesson you will learn about confidentiality. Good luck!\n"
   ]
  },
  {
   "cell_type": "markdown",
   "metadata": {},
   "source": [
    "### Challenge Name: caesar_easy (/embsec/confidentiality/caesar_easy)\n",
    "\n",
    "\n",
    "        The serial device is sending you a message which includes a ciphertext \n",
    "        encrypted with a caesar cipher! \n",
    "        \n",
    "        The message is in the following format:\n",
    "    \n",
    "        [      0x2       ] [ variable... ] <-- Field Size(s) in Bytes\n",
    "        ----------------------------------\n",
    "        | Ciphertext Size |  Ciphertext  | <-- Field Name\n",
    "        ----------------------------------\n",
    "    \n",
    "        1. Read the ciphertext size (formatted as a little-endian short) from the serial device\n",
    "        2. Read the ciphertext from the serial device\n",
    "        3. Decrypt the ciphertext using the key 26 (rotate each letter by 26)\n",
    "        4. Send the plaintext back to the device\n",
    "        5. Read the flag from the serial device!\n",
    "    \n",
    "    Hint: Print the decrypted message, it should be in english and make sense!\n",
    "    \n",
    "    Resources:\n",
    "    \n",
    "    <https://docs.python.org/3/library/struct.html>\n",
    "    \n",
    "    <https://en.wikipedia.org/wiki/Caesar_cipher>\n",
    "    \n",
    "    <http://www.asciitable.com/>\n",
    "    \n"
   ]
  },
  {
   "cell_type": "code",
   "execution_count": null,
   "metadata": {},
   "outputs": [],
   "source": [
    "from embsec import Serial\n",
    "\n",
    "def caesar_easy():\n",
    "    ser = Serial(\"/embsec/confidentiality/caesar_easy\")\n",
    "    # Your code goes here!\n",
    "\n",
    "caesar_easy()\n"
   ]
  },
  {
   "cell_type": "markdown",
   "metadata": {},
   "source": [
    "### Challenge Name: caesar_hard (/embsec/confidentiality/caesar_hard)\n",
    "\n",
    "\n",
    "        The serial device is sending you a message which includes a ciphertext \n",
    "        encrypted with a caesar cipher! But now...you don't know the key!\n",
    "        \n",
    "        The message is in the following format:\n",
    "\n",
    "        [      0x2       ] [ variable... ] <-- Field Size(s) in Bytes\n",
    "        ----------------------------------\n",
    "        | Ciphertext Size |  Ciphertext  | <-- Field Name\n",
    "        ----------------------------------\n",
    "\n",
    "        1. Read the ciphertext size (formatted as a little-endian short) from the serial device\n",
    "        2. Read the ciphertext from the serial device\n",
    "        3. Do a frequency analysis to recover the secret key\n",
    "        3. Decrypt the ciphertext using the recovered key\n",
    "        4. Send the plaintext back to the device\n",
    "        5. Read the flag from the serial device!\n",
    "\n",
    "    Hint: The Counter class in the collections module may come in handy!\n",
    "\n",
    "    Resources:\n",
    "\n",
    "    <https://docs.python.org/3/library/struct.html>\n",
    "\n",
    "    <https://en.wikipedia.org/wiki/Caesar_cipher>\n",
    "\n",
    "    <http://www.asciitable.com/>\n",
    "    \n"
   ]
  },
  {
   "cell_type": "code",
   "execution_count": null,
   "metadata": {},
   "outputs": [],
   "source": [
    "from embsec import Serial\n",
    "\n",
    "def caesar_hard():\n",
    "    ser = Serial(\"/embsec/confidentiality/caesar_hard\")\n",
    "    # Your code goes here!\n",
    "\n",
    "caesar_hard()\n"
   ]
  }
 ],
 "metadata": {},
 "nbformat": 4,
 "nbformat_minor": 2
}
